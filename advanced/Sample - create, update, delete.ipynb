{
 "cells": [
  {
   "cell_type": "markdown",
   "metadata": {},
   "source": [
    "# Sample - create, update, delete"
   ]
  },
  {
   "cell_type": "code",
   "execution_count": 1,
   "metadata": {},
   "outputs": [
    {
     "name": "stdout",
     "output_type": "stream",
     "text": [
      "Welcome Matthijs Brouwer\n",
      "Package version '0.0.10'\n",
      "Your active group is 'Testgroup' (6727)\n"
     ]
    }
   ],
   "source": [
    "from elabjournal import elabjournal\n",
    "eLAB = elabjournal.api()"
   ]
  },
  {
   "cell_type": "code",
   "execution_count": 2,
   "metadata": {},
   "outputs": [
    {
     "data": {
      "text/plain": [
       "Group 'Testgroup' (6727)"
      ]
     },
     "execution_count": 2,
     "metadata": {},
     "output_type": "execute_result"
    }
   ],
   "source": [
    "#always use a specific group for this example\n",
    "eLAB.set_group(6727)\n",
    "eLAB.group()"
   ]
  },
  {
   "cell_type": "markdown",
   "metadata": {},
   "source": [
    "Get a sample type"
   ]
  },
  {
   "cell_type": "code",
   "execution_count": 3,
   "metadata": {},
   "outputs": [],
   "source": [
    "sampleType = eLAB.sample_types().first()"
   ]
  },
  {
   "cell_type": "markdown",
   "metadata": {},
   "source": [
    "Show number of samples and number of archived (deleted) samples"
   ]
  },
  {
   "cell_type": "code",
   "execution_count": 4,
   "metadata": {},
   "outputs": [
    {
     "name": "stdout",
     "output_type": "stream",
     "text": [
      "Samples: 7\n",
      "Archived: 34\n"
     ]
    }
   ],
   "source": [
    "samples = eLAB.samples()\n",
    "samplesArchived = eLAB.samples(archived=True)\n",
    "print(\"Samples: \"+str(samples.number()))\n",
    "print(\"Archived: \"+str(samplesArchived.number()))"
   ]
  },
  {
   "cell_type": "markdown",
   "metadata": {},
   "source": [
    "Create a new sample"
   ]
  },
  {
   "cell_type": "code",
   "execution_count": 5,
   "metadata": {},
   "outputs": [
    {
     "data": {
      "text/plain": [
       "Sample 'test sample' (7627133)"
      ]
     },
     "execution_count": 5,
     "metadata": {},
     "output_type": "execute_result"
    }
   ],
   "source": [
    "#newSample = eLAB.create_sample(sampleType, name=\"test sample\")\n",
    "newSample = eLAB.sample(7627133)\n",
    "newSample"
   ]
  },
  {
   "cell_type": "markdown",
   "metadata": {},
   "source": [
    "Update sample"
   ]
  },
  {
   "cell_type": "code",
   "execution_count": 6,
   "metadata": {},
   "outputs": [
    {
     "name": "stdout",
     "output_type": "stream",
     "text": [
      "test sample\n",
      "test sample - updated using api\n",
      "test sample - updated from object\n"
     ]
    }
   ],
   "source": [
    "print(newSample.name())\n",
    "#update\n",
    "newSample = eLAB.update_sample(newSample.id(), name=\"test sample - updated using api\")\n",
    "print(newSample.name())\n",
    "#update again\n",
    "newSample.update(name=\"test sample - updated from object\")\n",
    "print(newSample.name())"
   ]
  },
  {
   "cell_type": "markdown",
   "metadata": {},
   "source": [
    "Delete sample"
   ]
  },
  {
   "cell_type": "code",
   "execution_count": 7,
   "metadata": {},
   "outputs": [
    {
     "data": {
      "text/plain": [
       "7627133"
      ]
     },
     "execution_count": 7,
     "metadata": {},
     "output_type": "execute_result"
    }
   ],
   "source": [
    "eLAB.delete_sample(newSample)"
   ]
  },
  {
   "cell_type": "markdown",
   "metadata": {},
   "source": [
    "Delete it again, this will result in an error"
   ]
  },
  {
   "cell_type": "code",
   "execution_count": 8,
   "metadata": {},
   "outputs": [
    {
     "name": "stdout",
     "output_type": "stream",
     "text": [
      "Http Error: 404 Client Error: Not Found for url: https://www.elabjournal.com/api/v1/samples/7627133\n"
     ]
    },
    {
     "data": {
      "text/plain": [
       "7627133"
      ]
     },
     "execution_count": 8,
     "metadata": {},
     "output_type": "execute_result"
    }
   ],
   "source": [
    "eLAB.delete_sample(newSample)"
   ]
  },
  {
   "cell_type": "markdown",
   "metadata": {},
   "source": [
    "Get data (still available, but archived)"
   ]
  },
  {
   "cell_type": "code",
   "execution_count": 9,
   "metadata": {},
   "outputs": [
    {
     "data": {
      "text/plain": [
       "{'owner': 'Matthijs Brouwer',\n",
       " 'archived': True,\n",
       " 'deleteDate': '2019-07-30T09:58:09Z',\n",
       " 'sampleID': 7627133,\n",
       " 'created': '2019-07-30T09:58:09Z',\n",
       " 'userID': 24700,\n",
       " 'creatorID': 24700,\n",
       " 'storageLayerID': 0,\n",
       " 'position': 0,\n",
       " 'barcode': '005000007627133',\n",
       " 'sampleType': {'sampleTypeID': 23494,\n",
       "  'userID': 24700,\n",
       "  'groupID': 6727,\n",
       "  'name': 'Plant Seed WUR template concept',\n",
       "  'backgroundColor': '900',\n",
       "  'foregroundColor': 'FFF'},\n",
       " 'sampleTypeID': 23494,\n",
       " 'checkedOut': False,\n",
       " 'parentSampleID': 0,\n",
       " 'name': 'test sample - updated from object',\n",
       " 'description': '',\n",
       " 'note': ''}"
      ]
     },
     "execution_count": 9,
     "metadata": {},
     "output_type": "execute_result"
    }
   ],
   "source": [
    "#eLAB.sample(newSample.id()).data()\n",
    "eLAB.sample(7627133).data()"
   ]
  },
  {
   "cell_type": "markdown",
   "metadata": {},
   "source": [
    "Again show number of samples and number of archived (deleted) samples"
   ]
  },
  {
   "cell_type": "code",
   "execution_count": 10,
   "metadata": {},
   "outputs": [
    {
     "name": "stdout",
     "output_type": "stream",
     "text": [
      "Samples: 7\n",
      "Archived: 35\n"
     ]
    }
   ],
   "source": [
    "samples = eLAB.samples()\n",
    "samplesArchived = eLAB.samples(archived=True)\n",
    "print(\"Samples: \"+str(samples.number()))\n",
    "print(\"Archived: \"+str(samplesArchived.number()))"
   ]
  }
 ],
 "metadata": {
  "kernelspec": {
   "display_name": "Python 3",
   "language": "python",
   "name": "python3"
  },
  "language_info": {
   "codemirror_mode": {
    "name": "ipython",
    "version": 3
   },
   "file_extension": ".py",
   "mimetype": "text/x-python",
   "name": "python",
   "nbconvert_exporter": "python",
   "pygments_lexer": "ipython3",
   "version": "3.7.1"
  }
 },
 "nbformat": 4,
 "nbformat_minor": 2
}
