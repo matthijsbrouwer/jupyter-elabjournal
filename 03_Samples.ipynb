{
 "cells": [
  {
   "cell_type": "markdown",
   "metadata": {},
   "source": [
    "# eLABJournal and jupyter : samples\n",
    "Access to your eLABJournal samples from jupyter"
   ]
  },
  {
   "cell_type": "markdown",
   "metadata": {},
   "source": [
    "Use the elabjournal package, create an object to access the API."
   ]
  },
  {
   "cell_type": "code",
   "execution_count": 1,
   "metadata": {},
   "outputs": [
    {
     "name": "stdout",
     "output_type": "stream",
     "text": [
      "Welcome Matthijs Brouwer\n",
      "Package 'elabjournal', version '0.0.12'\n",
      "Your active group is 'PB Mushrooms' (1056)\n"
     ]
    }
   ],
   "source": [
    "from elabjournal import elabjournal\n",
    "eLAB = elabjournal.api()"
   ]
  },
  {
   "cell_type": "code",
   "execution_count": 2,
   "metadata": {},
   "outputs": [],
   "source": [
    "#always use a specific group for this example\n",
    "eLAB.set_group(1056)"
   ]
  },
  {
   "cell_type": "markdown",
   "metadata": {},
   "source": [
    "## Samples"
   ]
  },
  {
   "cell_type": "markdown",
   "metadata": {},
   "source": [
    "A samples object can be created that describes all the samples."
   ]
  },
  {
   "cell_type": "code",
   "execution_count": 3,
   "metadata": {},
   "outputs": [
    {
     "data": {
      "text/plain": [
       "Samples (23568x)\n",
       "|\n",
       "|  Available methods, use help() on this object for more detailed information:\n",
       "|\n",
       "|  all(fields, maximum)\n",
       "|    Return all items in a single DataFrame.\n",
       "|  fields()\n",
       "|    Get the available fields.\n",
       "|  first(single)\n",
       "|    Get the first item (if exists).\n",
       "|  get(*args)\n",
       "|    Get the item for the provided index entry.\n",
       "|  name()\n",
       "|    Get the name.\n",
       "|  number()\n",
       "|    Get the number of items.\n",
       "|  show(fields, size)\n",
       "|    Create a browseable representation of the items.\n",
       "|  title()\n",
       "|    Get the title.\n",
       "|  visualize()\n",
       "|    Show visualization."
      ]
     },
     "execution_count": 3,
     "metadata": {},
     "output_type": "execute_result"
    }
   ],
   "source": [
    "samples = eLAB.samples()\n",
    "samples"
   ]
  },
  {
   "cell_type": "markdown",
   "metadata": {},
   "source": [
    "A method is available to browse the samples, optionally restricting the output to a set of fields and defining a custom page size."
   ]
  },
  {
   "cell_type": "code",
   "execution_count": 4,
   "metadata": {},
   "outputs": [
    {
     "data": {
      "text/html": [
       "<div>\n",
       "<style scoped>\n",
       "    .dataframe tbody tr th:only-of-type {\n",
       "        vertical-align: middle;\n",
       "    }\n",
       "\n",
       "    .dataframe tbody tr th {\n",
       "        vertical-align: top;\n",
       "    }\n",
       "\n",
       "    .dataframe thead th {\n",
       "        text-align: right;\n",
       "    }\n",
       "</style>\n",
       "<table border=\"1\" class=\"dataframe\">\n",
       "  <thead>\n",
       "    <tr style=\"text-align: right;\">\n",
       "      <th></th>\n",
       "      <th>barcode</th>\n",
       "      <th>name</th>\n",
       "      <th>sampleType.name</th>\n",
       "    </tr>\n",
       "    <tr>\n",
       "      <th>sampleID</th>\n",
       "      <th></th>\n",
       "      <th></th>\n",
       "      <th></th>\n",
       "    </tr>\n",
       "  </thead>\n",
       "  <tbody>\n",
       "    <tr>\n",
       "      <th>2478221</th>\n",
       "      <td>005000002478221</td>\n",
       "      <td>AJX-172</td>\n",
       "      <td>Mycelium</td>\n",
       "    </tr>\n",
       "    <tr>\n",
       "      <th>2452139</th>\n",
       "      <td>005000002452139</td>\n",
       "      <td>SR 5</td>\n",
       "      <td>Mycelium</td>\n",
       "    </tr>\n",
       "    <tr>\n",
       "      <th>2452142</th>\n",
       "      <td>005000002452142</td>\n",
       "      <td>SR 5</td>\n",
       "      <td>Mycelium</td>\n",
       "    </tr>\n",
       "  </tbody>\n",
       "</table>\n",
       "</div>"
      ],
      "text/plain": [
       "                  barcode     name sampleType.name\n",
       "sampleID                                          \n",
       "2478221   005000002478221  AJX-172        Mycelium\n",
       "2452139   005000002452139     SR 5        Mycelium\n",
       "2452142   005000002452142     SR 5        Mycelium"
      ]
     },
     "execution_count": 4,
     "metadata": {},
     "output_type": "execute_result"
    }
   ],
   "source": [
    "#samples.show([\"barcode\", \"name\", \"sampleType.name\"], 3)\n",
    "samples.all([\"barcode\", \"name\", \"sampleType.name\"], 3)"
   ]
  },
  {
   "cell_type": "markdown",
   "metadata": {},
   "source": [
    "Get the first sample of this set"
   ]
  },
  {
   "cell_type": "code",
   "execution_count": 5,
   "metadata": {
    "scrolled": false
   },
   "outputs": [
    {
     "data": {
      "text/plain": [
       "Sample 'AJX-172' (2478221)\n",
       "|\n",
       "|  Available methods, use help() on this object for more detailed information:\n",
       "|\n",
       "|  barcode()\n",
       "|    Get the barcode of the sample.\n",
       "|  data()\n",
       "|    Get data.\n",
       "|  id()\n",
       "|    Get id.\n",
       "|  meta(sample_meta_id)\n",
       "|    Get meta item (meta) with provided sample_meta_id for the sample.\n",
       "|  metas()\n",
       "|    Get all the meta items (metas) for the sample.\n",
       "|  name()\n",
       "|    Get the name.\n",
       "|  sample_serie()\n",
       "|    Get the sample serie of the sample as an object.\n",
       "|  sample_type()\n",
       "|    Get the sample type of the sample as an object.\n",
       "|  show(fields)\n",
       "|    Create representation.\n",
       "|  storage()\n",
       "|    Get the storage of the sample as an object.\n",
       "|  storage_layer()\n",
       "|    Get the storage layer of the sample as an object.\n",
       "|  title()\n",
       "|    Get the title.\n",
       "|  update(*args, **kwargs)\n",
       "|    Update the sample.\n",
       "|  visualize()\n",
       "|    Show visualization."
      ]
     },
     "execution_count": 5,
     "metadata": {},
     "output_type": "execute_result"
    }
   ],
   "source": [
    "firstSample = samples.first()\n",
    "firstSample\n",
    "#firstSample.visualize()"
   ]
  },
  {
   "cell_type": "markdown",
   "metadata": {},
   "source": [
    "## Filtering"
   ]
  },
  {
   "cell_type": "markdown",
   "metadata": {},
   "source": [
    "Filter **samples** by name"
   ]
  },
  {
   "cell_type": "code",
   "execution_count": 6,
   "metadata": {},
   "outputs": [
    {
     "data": {
      "text/plain": [
       "'AJX-172'"
      ]
     },
     "execution_count": 6,
     "metadata": {},
     "output_type": "execute_result"
    }
   ],
   "source": [
    "#example sample name\n",
    "sampleName = firstSample.name()\n",
    "sampleName"
   ]
  },
  {
   "cell_type": "code",
   "execution_count": 7,
   "metadata": {},
   "outputs": [
    {
     "data": {
      "text/plain": [
       "1"
      ]
     },
     "execution_count": 7,
     "metadata": {},
     "output_type": "execute_result"
    }
   ],
   "source": [
    "samplesByName = eLAB.samples(name=sampleName)\n",
    "samplesByName.number()"
   ]
  },
  {
   "cell_type": "markdown",
   "metadata": {},
   "source": [
    "Filter **samples** by sampleTypeID or **sample type object**"
   ]
  },
  {
   "cell_type": "code",
   "execution_count": 24,
   "metadata": {
    "scrolled": false
   },
   "outputs": [
    {
     "data": {
      "text/plain": [
       "SampleType 'Mycelium' (3394)\n",
       "|\n",
       "|  Available methods, use help() on this object for more detailed information:\n",
       "|\n",
       "|  data()\n",
       "|    Get data.\n",
       "|  id()\n",
       "|    Get id.\n",
       "|  metas()\n",
       "|    Get all the meta items (metas) for the sample type.\n",
       "|  name()\n",
       "|    Get the name.\n",
       "|  show(fields)\n",
       "|    Create representation.\n",
       "|  title()\n",
       "|    Get the title.\n",
       "|  visualize()\n",
       "|    Create visualization."
      ]
     },
     "execution_count": 24,
     "metadata": {},
     "output_type": "execute_result"
    }
   ],
   "source": [
    "#example sampleType\n",
    "sampleType = firstSample.sample_type()\n",
    "#display(sampleType.visualize())\n",
    "sampleType"
   ]
  },
  {
   "cell_type": "code",
   "execution_count": 9,
   "metadata": {},
   "outputs": [
    {
     "data": {
      "text/plain": [
       "3394"
      ]
     },
     "execution_count": 9,
     "metadata": {},
     "output_type": "execute_result"
    }
   ],
   "source": [
    "#example sampleTypeID\n",
    "sampleTypeID = sampleType.id()\n",
    "sampleTypeID"
   ]
  },
  {
   "cell_type": "code",
   "execution_count": 10,
   "metadata": {},
   "outputs": [
    {
     "data": {
      "text/plain": [
       "'Samples (23080x)'"
      ]
     },
     "execution_count": 10,
     "metadata": {},
     "output_type": "execute_result"
    }
   ],
   "source": [
    "samplesBySampleType = eLAB.samples(sampleType)\n",
    "samplesBySampleType.title()"
   ]
  },
  {
   "cell_type": "code",
   "execution_count": 11,
   "metadata": {},
   "outputs": [
    {
     "data": {
      "text/plain": [
       "'Samples (23080x)'"
      ]
     },
     "execution_count": 11,
     "metadata": {},
     "output_type": "execute_result"
    }
   ],
   "source": [
    "samplesBySampleTypeID = eLAB.samples(sampleTypeID=sampleTypeID)\n",
    "samplesBySampleTypeID.title()"
   ]
  },
  {
   "cell_type": "markdown",
   "metadata": {},
   "source": [
    "See `help(eLAB.samples)` for more options"
   ]
  },
  {
   "cell_type": "markdown",
   "metadata": {},
   "source": [
    "## Select single sample"
   ]
  },
  {
   "cell_type": "code",
   "execution_count": 12,
   "metadata": {},
   "outputs": [
    {
     "data": {
      "text/plain": [
       "\"Sample 'AJX-172' (2478221)\""
      ]
     },
     "execution_count": 12,
     "metadata": {},
     "output_type": "execute_result"
    }
   ],
   "source": [
    "firstSample = samples.first()\n",
    "firstSampleId = firstSample.id()\n",
    "firstSample.title()"
   ]
  },
  {
   "cell_type": "code",
   "execution_count": 13,
   "metadata": {},
   "outputs": [],
   "source": [
    "sample = eLAB.sample(firstSampleId)"
   ]
  },
  {
   "cell_type": "code",
   "execution_count": 14,
   "metadata": {},
   "outputs": [
    {
     "data": {
      "text/plain": [
       "2478221"
      ]
     },
     "execution_count": 14,
     "metadata": {},
     "output_type": "execute_result"
    }
   ],
   "source": [
    "sample.id()"
   ]
  },
  {
   "cell_type": "code",
   "execution_count": 15,
   "metadata": {},
   "outputs": [
    {
     "data": {
      "text/plain": [
       "'AJX-172'"
      ]
     },
     "execution_count": 15,
     "metadata": {},
     "output_type": "execute_result"
    }
   ],
   "source": [
    "sample.name()"
   ]
  },
  {
   "cell_type": "code",
   "execution_count": 16,
   "metadata": {},
   "outputs": [
    {
     "data": {
      "text/plain": [
       "\"SampleType 'Mycelium' (3394)\""
      ]
     },
     "execution_count": 16,
     "metadata": {},
     "output_type": "execute_result"
    }
   ],
   "source": [
    "sample.sample_type().title()"
   ]
  },
  {
   "cell_type": "markdown",
   "metadata": {},
   "source": [
    "## Sample series"
   ]
  },
  {
   "cell_type": "markdown",
   "metadata": {},
   "source": [
    "A **sample series object** can be created that describes all the samples."
   ]
  },
  {
   "cell_type": "code",
   "execution_count": 17,
   "metadata": {},
   "outputs": [
    {
     "data": {
      "text/plain": [
       "\"SampleSerie 'G1074c/1' (51728)\""
      ]
     },
     "execution_count": 17,
     "metadata": {},
     "output_type": "execute_result"
    }
   ],
   "source": [
    "sampleSeries = eLAB.sample_series()\n",
    "sampleSerie = sampleSeries.first()\n",
    "sampleSerie.title()"
   ]
  },
  {
   "cell_type": "code",
   "execution_count": 18,
   "metadata": {},
   "outputs": [
    {
     "data": {
      "text/plain": [
       "'Samples (2x)'"
      ]
     },
     "execution_count": 18,
     "metadata": {},
     "output_type": "execute_result"
    }
   ],
   "source": [
    "sampleSerie.samples().title()"
   ]
  },
  {
   "cell_type": "markdown",
   "metadata": {},
   "source": [
    "## Samples and Series"
   ]
  },
  {
   "cell_type": "markdown",
   "metadata": {},
   "source": [
    "Get single samples and sample series in an aggregated list."
   ]
  },
  {
   "cell_type": "code",
   "execution_count": 19,
   "metadata": {},
   "outputs": [
    {
     "data": {
      "text/plain": [
       "'Samples and Series (16183x)'"
      ]
     },
     "execution_count": 19,
     "metadata": {},
     "output_type": "execute_result"
    }
   ],
   "source": [
    "samplesAndSeries = eLAB.samples_and_series()\n",
    "samplesAndSeries.title()"
   ]
  },
  {
   "cell_type": "code",
   "execution_count": 20,
   "metadata": {},
   "outputs": [
    {
     "data": {
      "text/plain": [
       "\"SampleSerie 'AJX-172' (70034)\""
      ]
     },
     "execution_count": 20,
     "metadata": {},
     "output_type": "execute_result"
    }
   ],
   "source": [
    "samplesAndSeries.first().title()"
   ]
  },
  {
   "cell_type": "markdown",
   "metadata": {},
   "source": [
    "See `help(eLAB.samples_and_series)` for more options"
   ]
  },
  {
   "cell_type": "markdown",
   "metadata": {},
   "source": [
    "## Barcode\n",
    "For each **sample object** and **sample serie object**, the barcode method can be used to get the sample identifying barcode in an integer/string representation."
   ]
  },
  {
   "cell_type": "code",
   "execution_count": 21,
   "metadata": {},
   "outputs": [
    {
     "name": "stdout",
     "output_type": "stream",
     "text": [
      "005000002478221\n",
      "011000000051728\n"
     ]
    }
   ],
   "source": [
    "barcodeSample = sample.barcode()\n",
    "barcodeSampleSerie = sampleSerie.barcode()\n",
    "print(barcodeSample)\n",
    "print(barcodeSampleSerie)"
   ]
  },
  {
   "cell_type": "markdown",
   "metadata": {},
   "source": [
    "From this barcode, the original sample object can be created."
   ]
  },
  {
   "cell_type": "code",
   "execution_count": 22,
   "metadata": {},
   "outputs": [
    {
     "data": {
      "text/plain": [
       "\"Sample 'AJX-172' (2478221)\""
      ]
     },
     "execution_count": 22,
     "metadata": {},
     "output_type": "execute_result"
    }
   ],
   "source": [
    "eLAB.barcode(barcodeSample).title()"
   ]
  },
  {
   "cell_type": "code",
   "execution_count": 23,
   "metadata": {},
   "outputs": [
    {
     "data": {
      "text/plain": [
       "\"SampleSerie 'G1074c/1' (51728)\""
      ]
     },
     "execution_count": 23,
     "metadata": {},
     "output_type": "execute_result"
    }
   ],
   "source": [
    "eLAB.barcode(barcodeSampleSerie).title()"
   ]
  }
 ],
 "metadata": {
  "kernelspec": {
   "display_name": "Python 3",
   "language": "python",
   "name": "python3"
  },
  "language_info": {
   "codemirror_mode": {
    "name": "ipython",
    "version": 3
   },
   "file_extension": ".py",
   "mimetype": "text/x-python",
   "name": "python",
   "nbconvert_exporter": "python",
   "pygments_lexer": "ipython3",
   "version": "3.7.1"
  }
 },
 "nbformat": 4,
 "nbformat_minor": 2
}
