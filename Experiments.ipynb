{
 "cells": [
  {
   "cell_type": "markdown",
   "metadata": {},
   "source": [
    "# eLABJournal and jupyter : experiments\n",
    "Access to your eLABJournal experiments from jupyter"
   ]
  },
  {
   "cell_type": "markdown",
   "metadata": {},
   "source": [
    "Use the elabjournal package, create an object to access the API."
   ]
  },
  {
   "cell_type": "code",
   "execution_count": 1,
   "metadata": {},
   "outputs": [
    {
     "name": "stdout",
     "output_type": "stream",
     "text": [
      "Welcome Matthijs Brouwer\n",
      "Package version '0.0.8'\n",
      "Your active group is 'Testgroup' (6727)\n"
     ]
    }
   ],
   "source": [
    "from elabjournal import elabjournal\n",
    "eLAB = elabjournal.api()\n",
    "#set specific group for this example\n",
    "eLAB.set_group(6727)"
   ]
  },
  {
   "cell_type": "markdown",
   "metadata": {},
   "source": [
    "In eLABJournal, experiments are organized by project. Projects organize a collection of studies, which, in turn, organizes a collection of experiments. "
   ]
  },
  {
   "cell_type": "code",
   "execution_count": 2,
   "metadata": {},
   "outputs": [
    {
     "data": {
      "application/vnd.jupyter.widget-view+json": {
       "model_id": "ede97cc880854388b9e4007c5350d31e",
       "version_major": 2,
       "version_minor": 0
      },
      "text/plain": [
       "VBox(children=(Box(children=(Label(value=''), Label(value=''), Label(value='')), layout=Layout(border='solid',…"
      ]
     },
     "metadata": {},
     "output_type": "display_data"
    }
   ],
   "source": [
    "projects = eLAB.projects()\n",
    "projects.show([\"name\", \"numStudies\"])"
   ]
  },
  {
   "cell_type": "code",
   "execution_count": 3,
   "metadata": {},
   "outputs": [
    {
     "data": {
      "application/vnd.jupyter.widget-view+json": {
       "model_id": "ab6138782157424784f3565384388cfc",
       "version_major": 2,
       "version_minor": 0
      },
      "text/plain": [
       "VBox(children=(Box(children=(Label(value=''), Label(value=''), Label(value='')), layout=Layout(border='solid',…"
      ]
     },
     "metadata": {},
     "output_type": "display_data"
    }
   ],
   "source": [
    "studies = eLAB.studies(projects.first())\n",
    "studies.show([\"name\", \"description\"])"
   ]
  },
  {
   "cell_type": "markdown",
   "metadata": {},
   "source": [
    "## Experiments"
   ]
  },
  {
   "cell_type": "markdown",
   "metadata": {},
   "source": [
    "An **experiments object** can be created that describes all the experiments.\n",
    "\n",
    "By providing parameters (see `help(eLAB.experiments)`) this set can be filtered."
   ]
  },
  {
   "cell_type": "code",
   "execution_count": 4,
   "metadata": {},
   "outputs": [
    {
     "data": {
      "application/vnd.jupyter.widget-view+json": {
       "model_id": "00c2512168a1481abe952a8b2f47054a",
       "version_major": 2,
       "version_minor": 0
      },
      "text/plain": [
       "VBox(children=(Box(children=(Label(value=''), Label(value=''), Label(value='')), layout=Layout(border='solid',…"
      ]
     },
     "metadata": {},
     "output_type": "display_data"
    }
   ],
   "source": [
    "experiments = eLAB.experiments(sort=\"experimentID\")\n",
    "experiments.show([\"name\", \"studyID\"])"
   ]
  },
  {
   "cell_type": "markdown",
   "metadata": {},
   "source": [
    "The available fields for the experiments can be listed."
   ]
  },
  {
   "cell_type": "code",
   "execution_count": 5,
   "metadata": {},
   "outputs": [
    {
     "data": {
      "text/plain": [
       "['created',\n",
       " 'deleted',\n",
       " 'dependencyExperimentID',\n",
       " 'description',\n",
       " 'due',\n",
       " 'experimentStatus.color',\n",
       " 'experimentStatus.experimentStatusID',\n",
       " 'experimentStatus.experimentStatusType',\n",
       " 'experimentStatus.groupID',\n",
       " 'experimentStatus.status',\n",
       " 'groupID',\n",
       " 'name',\n",
       " 'notes',\n",
       " 'projectID',\n",
       " 'statusChanged',\n",
       " 'studyID',\n",
       " 'subgroupID',\n",
       " 'template',\n",
       " 'userID',\n",
       " 'workflowStepID']"
      ]
     },
     "execution_count": 5,
     "metadata": {},
     "output_type": "execute_result"
    }
   ],
   "source": [
    "experiments.fields()"
   ]
  },
  {
   "cell_type": "markdown",
   "metadata": {},
   "source": [
    "A method is available to browse the experiments, optionally restricting the output to a set of fields and defining a custom page size."
   ]
  },
  {
   "cell_type": "code",
   "execution_count": 6,
   "metadata": {},
   "outputs": [
    {
     "data": {
      "application/vnd.jupyter.widget-view+json": {
       "model_id": "05742e3dc3c14d2989f06f0b1b4a8a8d",
       "version_major": 2,
       "version_minor": 0
      },
      "text/plain": [
       "VBox(children=(Box(children=(Label(value=''), Label(value=''), Label(value='')), layout=Layout(border='solid',…"
      ]
     },
     "metadata": {},
     "output_type": "display_data"
    }
   ],
   "source": [
    "experiments.show(fields=[\"name\",\"description\",\"created\"], size=3)"
   ]
  },
  {
   "cell_type": "markdown",
   "metadata": {},
   "source": [
    "Use method `experiments.all()` to export all export experiments into a *DataFrame*, again optionally restricting the output to a set of fields or restricting the number of rows in the export."
   ]
  },
  {
   "cell_type": "markdown",
   "metadata": {},
   "source": [
    "## Single experiment"
   ]
  },
  {
   "cell_type": "markdown",
   "metadata": {},
   "source": [
    "To get only the first experiment of the (usually filtered) set, the `experiments.first()` method can be used. This results in an **experiment object** describing the experiment."
   ]
  },
  {
   "cell_type": "code",
   "execution_count": 7,
   "metadata": {},
   "outputs": [
    {
     "data": {
      "text/plain": [
       "Experiment 'Testexperiment' (373184)"
      ]
     },
     "execution_count": 7,
     "metadata": {},
     "output_type": "execute_result"
    }
   ],
   "source": [
    "firstExperiment = experiments.first()\n",
    "firstExperiment"
   ]
  },
  {
   "cell_type": "markdown",
   "metadata": {},
   "source": [
    "Methods are available to get id, name and all available data for this experiment."
   ]
  },
  {
   "cell_type": "code",
   "execution_count": 8,
   "metadata": {},
   "outputs": [
    {
     "data": {
      "text/plain": [
       "373184"
      ]
     },
     "execution_count": 8,
     "metadata": {},
     "output_type": "execute_result"
    }
   ],
   "source": [
    "firstExperimentId = firstExperiment.id()\n",
    "firstExperimentId"
   ]
  },
  {
   "cell_type": "code",
   "execution_count": 9,
   "metadata": {},
   "outputs": [
    {
     "data": {
      "text/plain": [
       "'Testexperiment'"
      ]
     },
     "execution_count": 9,
     "metadata": {},
     "output_type": "execute_result"
    }
   ],
   "source": [
    "firstExperiment.name()"
   ]
  },
  {
   "cell_type": "code",
   "execution_count": 10,
   "metadata": {},
   "outputs": [
    {
     "data": {
      "text/plain": [
       "{'studyID': 74113,\n",
       " 'projectID': 22534,\n",
       " 'experimentStatus': {'experimentStatusID': 12673,\n",
       "  'groupID': 6727,\n",
       "  'color': '#AA00AA',\n",
       "  'status': 'In Progress',\n",
       "  'experimentStatusType': 'PROGRESS'},\n",
       " 'experimentID': 373184,\n",
       " 'groupID': 6727,\n",
       " 'subgroupID': 6883,\n",
       " 'userID': 24700,\n",
       " 'workflowStepID': 71032,\n",
       " 'name': 'Testexperiment',\n",
       " 'description': '',\n",
       " 'notes': '',\n",
       " 'created': '2019-02-28T08:13:52Z',\n",
       " 'statusChanged': '2019-04-18T05:29:50Z',\n",
       " 'dependencyExperimentID': 0,\n",
       " 'due': '2000-12-31T23:00:00Z',\n",
       " 'deleted': False,\n",
       " 'template': False}"
      ]
     },
     "execution_count": 10,
     "metadata": {},
     "output_type": "execute_result"
    }
   ],
   "source": [
    "firstExperiment.data()"
   ]
  },
  {
   "cell_type": "markdown",
   "metadata": {},
   "source": [
    "It is also possible to get an **experiment object** by providing the id."
   ]
  },
  {
   "cell_type": "code",
   "execution_count": 11,
   "metadata": {},
   "outputs": [
    {
     "name": "stdout",
     "output_type": "stream",
     "text": [
      "373184\n"
     ]
    },
    {
     "data": {
      "text/plain": [
       "373184"
      ]
     },
     "execution_count": 11,
     "metadata": {},
     "output_type": "execute_result"
    }
   ],
   "source": [
    "print(firstExperimentId)\n",
    "experiment = eLAB.experiment(firstExperimentId)\n",
    "experiment.id()"
   ]
  },
  {
   "cell_type": "markdown",
   "metadata": {},
   "source": [
    "## Sections"
   ]
  },
  {
   "cell_type": "markdown",
   "metadata": {},
   "source": [
    "From an **experiment object**, we can get an object describing all sections"
   ]
  },
  {
   "cell_type": "code",
   "execution_count": 12,
   "metadata": {},
   "outputs": [
    {
     "data": {
      "text/html": [
       "<div>\n",
       "<style scoped>\n",
       "    .dataframe tbody tr th:only-of-type {\n",
       "        vertical-align: middle;\n",
       "    }\n",
       "\n",
       "    .dataframe tbody tr th {\n",
       "        vertical-align: top;\n",
       "    }\n",
       "\n",
       "    .dataframe thead th {\n",
       "        text-align: right;\n",
       "    }\n",
       "</style>\n",
       "<table border=\"1\" class=\"dataframe\">\n",
       "  <thead>\n",
       "    <tr style=\"text-align: right;\">\n",
       "      <th></th>\n",
       "      <th>order</th>\n",
       "      <th>sectionHeader</th>\n",
       "      <th>sectionType</th>\n",
       "      <th>lastEditUserFirstName</th>\n",
       "      <th>lastEditUserLastName</th>\n",
       "    </tr>\n",
       "    <tr>\n",
       "      <th>expJournalID</th>\n",
       "      <th></th>\n",
       "      <th></th>\n",
       "      <th></th>\n",
       "      <th></th>\n",
       "      <th></th>\n",
       "    </tr>\n",
       "  </thead>\n",
       "  <tbody>\n",
       "    <tr>\n",
       "      <th>3847613</th>\n",
       "      <td>1</td>\n",
       "      <td>Text example</td>\n",
       "      <td>PARAGRAPH</td>\n",
       "      <td>Matthijs</td>\n",
       "      <td>Brouwer</td>\n",
       "    </tr>\n",
       "    <tr>\n",
       "      <th>3847643</th>\n",
       "      <td>2</td>\n",
       "      <td>Datatable example</td>\n",
       "      <td>DATATABLE</td>\n",
       "      <td>Matthijs</td>\n",
       "      <td>Brouwer</td>\n",
       "    </tr>\n",
       "    <tr>\n",
       "      <th>3847679</th>\n",
       "      <td>3</td>\n",
       "      <td>Canvas example</td>\n",
       "      <td>CANVAS</td>\n",
       "      <td>Matthijs</td>\n",
       "      <td>Brouwer</td>\n",
       "    </tr>\n",
       "    <tr>\n",
       "      <th>3848414</th>\n",
       "      <td>4</td>\n",
       "      <td>Excel section</td>\n",
       "      <td>EXCEL</td>\n",
       "      <td>Matthijs</td>\n",
       "      <td>Brouwer</td>\n",
       "    </tr>\n",
       "    <tr>\n",
       "      <th>3899288</th>\n",
       "      <td>5</td>\n",
       "      <td>nieuw</td>\n",
       "      <td>PARAGRAPH</td>\n",
       "      <td>Matthijs</td>\n",
       "      <td>Brouwer</td>\n",
       "    </tr>\n",
       "    <tr>\n",
       "      <th>3985199</th>\n",
       "      <td>6</td>\n",
       "      <td>Specimen &amp; Materials</td>\n",
       "      <td>SAMPLESIN</td>\n",
       "      <td>Matthijs</td>\n",
       "      <td>Brouwer</td>\n",
       "    </tr>\n",
       "    <tr>\n",
       "      <th>4001258</th>\n",
       "      <td>7</td>\n",
       "      <td>ttt</td>\n",
       "      <td>PROCEDURE</td>\n",
       "      <td>Matthijs</td>\n",
       "      <td>Brouwer</td>\n",
       "    </tr>\n",
       "    <tr>\n",
       "      <th>4004282</th>\n",
       "      <td>8</td>\n",
       "      <td>file</td>\n",
       "      <td>FILE</td>\n",
       "      <td>Matthijs</td>\n",
       "      <td>Brouwer</td>\n",
       "    </tr>\n",
       "    <tr>\n",
       "      <th>4005431</th>\n",
       "      <td>9</td>\n",
       "      <td>Output Samples</td>\n",
       "      <td>SAMPLESOUT</td>\n",
       "      <td>Matthijs</td>\n",
       "      <td>Brouwer</td>\n",
       "    </tr>\n",
       "    <tr>\n",
       "      <th>4007636</th>\n",
       "      <td>10</td>\n",
       "      <td>Plaatjes</td>\n",
       "      <td>IMAGE</td>\n",
       "      <td>Matthijs</td>\n",
       "      <td>Brouwer</td>\n",
       "    </tr>\n",
       "  </tbody>\n",
       "</table>\n",
       "</div>"
      ],
      "text/plain": [
       "              order         sectionHeader sectionType lastEditUserFirstName  \\\n",
       "expJournalID                                                                  \n",
       "3847613           1          Text example   PARAGRAPH              Matthijs   \n",
       "3847643           2     Datatable example   DATATABLE              Matthijs   \n",
       "3847679           3        Canvas example      CANVAS              Matthijs   \n",
       "3848414           4         Excel section       EXCEL              Matthijs   \n",
       "3899288           5                 nieuw   PARAGRAPH              Matthijs   \n",
       "3985199           6  Specimen & Materials   SAMPLESIN              Matthijs   \n",
       "4001258           7                   ttt   PROCEDURE              Matthijs   \n",
       "4004282           8                  file        FILE              Matthijs   \n",
       "4005431           9        Output Samples  SAMPLESOUT              Matthijs   \n",
       "4007636          10              Plaatjes       IMAGE              Matthijs   \n",
       "\n",
       "             lastEditUserLastName  \n",
       "expJournalID                       \n",
       "3847613                   Brouwer  \n",
       "3847643                   Brouwer  \n",
       "3847679                   Brouwer  \n",
       "3848414                   Brouwer  \n",
       "3899288                   Brouwer  \n",
       "3985199                   Brouwer  \n",
       "4001258                   Brouwer  \n",
       "4004282                   Brouwer  \n",
       "4005431                   Brouwer  \n",
       "4007636                   Brouwer  "
      ]
     },
     "execution_count": 12,
     "metadata": {},
     "output_type": "execute_result"
    }
   ],
   "source": [
    "sections = experiment.sections()\n",
    "allSections = sections.all([\"order\", \"sectionHeader\", \"sectionType\", \"lastEditUserFirstName\", \"lastEditUserLastName\"])\n",
    "allSections"
   ]
  },
  {
   "cell_type": "markdown",
   "metadata": {},
   "source": [
    "As can be seen from this list, there are multiple *sectionTypes*. For each of these types, we get the first id."
   ]
  },
  {
   "cell_type": "code",
   "execution_count": 13,
   "metadata": {},
   "outputs": [],
   "source": [
    "paragraphSectionId = allSections[allSections[\"sectionType\"]==\"PARAGRAPH\"].index[0]\n",
    "datatableSectionId = allSections[allSections[\"sectionType\"]==\"DATATABLE\"].index[0]\n",
    "canvasSectionId = allSections[allSections[\"sectionType\"]==\"CANVAS\"].index[0]\n",
    "excelSectionId = allSections[allSections[\"sectionType\"]==\"EXCEL\"].index[0]"
   ]
  },
  {
   "cell_type": "markdown",
   "metadata": {},
   "source": [
    "## Sectiontype PARAGRAPH\n",
    "A **section object** can be of type 'PARAGRAPH'"
   ]
  },
  {
   "cell_type": "code",
   "execution_count": 14,
   "metadata": {},
   "outputs": [
    {
     "data": {
      "text/plain": [
       "Section 'Text example' (3847613, PARAGRAPH)"
      ]
     },
     "execution_count": 14,
     "metadata": {},
     "output_type": "execute_result"
    }
   ],
   "source": [
    "sectionParagraph = eLAB.section(paragraphSectionId)\n",
    "sectionParagraph"
   ]
  },
  {
   "cell_type": "markdown",
   "metadata": {},
   "source": [
    "And we can view its content"
   ]
  },
  {
   "cell_type": "code",
   "execution_count": 15,
   "metadata": {},
   "outputs": [
    {
     "data": {
      "text/html": [
       "<?xml version=\"1.0\" encoding=\"utf-8\"?>\r\n",
       "        <!DOCTYPE html>\r\n",
       "        <html>\r\n",
       "            <head>\r\n",
       "                <title></title>\r\n",
       "            </head>\r\n",
       "            <body>\r\n",
       "                <p>This is a <strong>text</strong> with <u>markup</u>!<br>\n",
       "And a list</p>\n",
       "\n",
       "<ol>\n",
       "\t<li>one</li>\n",
       "\t<li>two</li>\n",
       "\t<li>three...</li>\n",
       "</ol>\n",
       "Testing character encoding: α β γ<br>\n",
       "<a href=\"/members/experiments/browser/#view=experiment&amp;nodeID=389036\">labjournal</a><br>\n",
       "<br>\n",
       "<br>\n",
       "&nbsp;\r\n",
       "            </body>\r\n",
       "        </html>"
      ],
      "text/plain": [
       "<IPython.core.display.HTML object>"
      ]
     },
     "execution_count": 15,
     "metadata": {},
     "output_type": "execute_result"
    }
   ],
   "source": [
    "from IPython.core.display import HTML\n",
    "HTML(sectionParagraph.get())"
   ]
  },
  {
   "cell_type": "markdown",
   "metadata": {},
   "source": [
    "## Sectiontype DATATABLE\n",
    "A **section object** can be of type 'DATATABLE'"
   ]
  },
  {
   "cell_type": "code",
   "execution_count": 16,
   "metadata": {},
   "outputs": [
    {
     "data": {
      "text/plain": [
       "Section 'Datatable example' (3847643, DATATABLE)"
      ]
     },
     "execution_count": 16,
     "metadata": {},
     "output_type": "execute_result"
    }
   ],
   "source": [
    "sectionDatatable = eLAB.section(datatableSectionId)\n",
    "sectionDatatable"
   ]
  },
  {
   "cell_type": "markdown",
   "metadata": {},
   "source": [
    "We can get the data from this section."
   ]
  },
  {
   "cell_type": "code",
   "execution_count": 17,
   "metadata": {},
   "outputs": [
    {
     "data": {
      "text/html": [
       "<div>\n",
       "<style scoped>\n",
       "    .dataframe tbody tr th:only-of-type {\n",
       "        vertical-align: middle;\n",
       "    }\n",
       "\n",
       "    .dataframe tbody tr th {\n",
       "        vertical-align: top;\n",
       "    }\n",
       "\n",
       "    .dataframe thead th {\n",
       "        text-align: right;\n",
       "    }\n",
       "</style>\n",
       "<table border=\"1\" class=\"dataframe\">\n",
       "  <thead>\n",
       "    <tr style=\"text-align: right;\">\n",
       "      <th></th>\n",
       "      <th>0</th>\n",
       "      <th>1</th>\n",
       "      <th>2</th>\n",
       "      <th>3</th>\n",
       "    </tr>\n",
       "  </thead>\n",
       "  <tbody>\n",
       "    <tr>\n",
       "      <th>0</th>\n",
       "      <td>Sample 1</td>\n",
       "      <td>1.34</td>\n",
       "      <td>23.3</td>\n",
       "      <td></td>\n",
       "    </tr>\n",
       "    <tr>\n",
       "      <th>1</th>\n",
       "      <td>Sample 2</td>\n",
       "      <td>2.54</td>\n",
       "      <td>53.1</td>\n",
       "      <td></td>\n",
       "    </tr>\n",
       "    <tr>\n",
       "      <th>2</th>\n",
       "      <td>Sample 3</td>\n",
       "      <td>3.45</td>\n",
       "      <td>33.8</td>\n",
       "      <td></td>\n",
       "    </tr>\n",
       "    <tr>\n",
       "      <th>3</th>\n",
       "      <td>Sample 4</td>\n",
       "      <td>2.55</td>\n",
       "      <td>34.2</td>\n",
       "      <td></td>\n",
       "    </tr>\n",
       "    <tr>\n",
       "      <th>4</th>\n",
       "      <td>Sample 5</td>\n",
       "      <td>1.59</td>\n",
       "      <td>32.9</td>\n",
       "      <td></td>\n",
       "    </tr>\n",
       "  </tbody>\n",
       "</table>\n",
       "</div>"
      ],
      "text/plain": [
       "          0     1     2  3\n",
       "0  Sample 1  1.34  23.3   \n",
       "1  Sample 2  2.54  53.1   \n",
       "2  Sample 3  3.45  33.8   \n",
       "3  Sample 4  2.55  34.2   \n",
       "4  Sample 5  1.59  32.9   "
      ]
     },
     "metadata": {},
     "output_type": "display_data"
    }
   ],
   "source": [
    "sectionDatatable_data = sectionDatatable.get()\n",
    "display(sectionDatatable_data)"
   ]
  },
  {
   "cell_type": "markdown",
   "metadata": {},
   "source": [
    "The do further analysis within python"
   ]
  },
  {
   "cell_type": "code",
   "execution_count": 18,
   "metadata": {},
   "outputs": [],
   "source": [
    "import pandas as pd\n",
    "#make numeric if possible\n",
    "sectionDatatable_adjusted = sectionDatatable_data.apply(pd.to_numeric, errors='coerce').combine_first(sectionDatatable_data)\n",
    "#add column with average\n",
    "sectionDatatable_adjusted[3] = sectionDatatable_adjusted.loc[:,1:2].mean(axis=1)\n",
    "#create plot\n",
    "sectionDatatable_plot = sectionDatatable_adjusted.set_index([0]).plot(kind=\"bar\")"
   ]
  },
  {
   "cell_type": "markdown",
   "metadata": {},
   "source": [
    "Results can be stored again in eLABJournal"
   ]
  },
  {
   "cell_type": "code",
   "execution_count": 19,
   "metadata": {},
   "outputs": [
    {
     "data": {
      "text/html": [
       "<div>\n",
       "<style scoped>\n",
       "    .dataframe tbody tr th:only-of-type {\n",
       "        vertical-align: middle;\n",
       "    }\n",
       "\n",
       "    .dataframe tbody tr th {\n",
       "        vertical-align: top;\n",
       "    }\n",
       "\n",
       "    .dataframe thead th {\n",
       "        text-align: right;\n",
       "    }\n",
       "</style>\n",
       "<table border=\"1\" class=\"dataframe\">\n",
       "  <thead>\n",
       "    <tr style=\"text-align: right;\">\n",
       "      <th></th>\n",
       "      <th>0</th>\n",
       "      <th>1</th>\n",
       "      <th>2</th>\n",
       "      <th>3</th>\n",
       "    </tr>\n",
       "  </thead>\n",
       "  <tbody>\n",
       "    <tr>\n",
       "      <th>0</th>\n",
       "      <td>Sample 1</td>\n",
       "      <td>1.34</td>\n",
       "      <td>23.3</td>\n",
       "      <td>12.32</td>\n",
       "    </tr>\n",
       "    <tr>\n",
       "      <th>1</th>\n",
       "      <td>Sample 2</td>\n",
       "      <td>2.54</td>\n",
       "      <td>53.1</td>\n",
       "      <td>27.82</td>\n",
       "    </tr>\n",
       "    <tr>\n",
       "      <th>2</th>\n",
       "      <td>Sample 3</td>\n",
       "      <td>3.45</td>\n",
       "      <td>33.8</td>\n",
       "      <td>18.625</td>\n",
       "    </tr>\n",
       "    <tr>\n",
       "      <th>3</th>\n",
       "      <td>Sample 4</td>\n",
       "      <td>2.55</td>\n",
       "      <td>34.2</td>\n",
       "      <td>18.375</td>\n",
       "    </tr>\n",
       "    <tr>\n",
       "      <th>4</th>\n",
       "      <td>Sample 5</td>\n",
       "      <td>1.59</td>\n",
       "      <td>32.9</td>\n",
       "      <td>17.245</td>\n",
       "    </tr>\n",
       "  </tbody>\n",
       "</table>\n",
       "</div>"
      ],
      "text/plain": [
       "          0     1     2       3\n",
       "0  Sample 1  1.34  23.3   12.32\n",
       "1  Sample 2  2.54  53.1   27.82\n",
       "2  Sample 3  3.45  33.8  18.625\n",
       "3  Sample 4  2.55  34.2  18.375\n",
       "4  Sample 5  1.59  32.9  17.245"
      ]
     },
     "metadata": {},
     "output_type": "display_data"
    }
   ],
   "source": [
    "#set adjusted data\n",
    "sectionDatatable.set(sectionDatatable_adjusted)\n",
    "#show new data in section2\n",
    "display(sectionDatatable.get())\n",
    "#return to original data\n",
    "sectionDatatable.set(sectionDatatable_data)"
   ]
  },
  {
   "cell_type": "markdown",
   "metadata": {},
   "source": [
    "Also the plot can be added, for example as a drawing on a CANVAS section"
   ]
  },
  {
   "cell_type": "markdown",
   "metadata": {},
   "source": [
    "## Sectiontype CANVAS\n",
    "A **section object** can be of type 'CANVAS'"
   ]
  },
  {
   "cell_type": "code",
   "execution_count": 20,
   "metadata": {},
   "outputs": [
    {
     "data": {
      "text/plain": [
       "Section 'Canvas example' (3847679, CANVAS)"
      ]
     },
     "execution_count": 20,
     "metadata": {},
     "output_type": "execute_result"
    }
   ],
   "source": [
    "sectionCanvas = eLAB.section(canvasSectionId)\n",
    "sectionCanvas"
   ]
  },
  {
   "cell_type": "code",
   "execution_count": 21,
   "metadata": {},
   "outputs": [
    {
     "data": {
      "image/png": "[encoded data removed]",
      "text/plain": [
       "<PIL.PngImagePlugin.PngImageFile image mode=RGBA size=704x627 at 0x11DADB128>"
      ]
     },
     "metadata": {},
     "output_type": "display_data"
    }
   ],
   "source": [
    "#set from figure\n",
    "sectionCanvas.set(sectionDatatable_plot.get_figure())\n",
    "#get from eLABJournal\n",
    "sectionCanvas_image = sectionCanvas.get()\n",
    "display(sectionCanvas_image)\n",
    "#set from png\n",
    "sectionCanvas.set(sectionCanvas_image)"
   ]
  },
  {
   "cell_type": "markdown",
   "metadata": {},
   "source": [
    "## Sectiontype EXCEL\n",
    "A section object can be of type 'EXCEL'"
   ]
  },
  {
   "cell_type": "code",
   "execution_count": 22,
   "metadata": {},
   "outputs": [
    {
     "data": {
      "text/plain": [
       "Section 'Excel section' (3848414, EXCEL)"
      ]
     },
     "execution_count": 22,
     "metadata": {},
     "output_type": "execute_result"
    }
   ],
   "source": [
    "sectionExcel = eLAB.section(excelSectionId)\n",
    "sectionExcel"
   ]
  },
  {
   "cell_type": "code",
   "execution_count": 23,
   "metadata": {},
   "outputs": [
    {
     "data": {
      "text/plain": [
       "['passport demo', 'additional information']"
      ]
     },
     "metadata": {},
     "output_type": "display_data"
    }
   ],
   "source": [
    "xls = sectionExcel.get()\n",
    "sheet_names = xls.sheet_names\n",
    "display(sheet_names)"
   ]
  },
  {
   "cell_type": "code",
   "execution_count": 24,
   "metadata": {},
   "outputs": [
    {
     "data": {
      "text/html": [
       "<div>\n",
       "<style scoped>\n",
       "    .dataframe tbody tr th:only-of-type {\n",
       "        vertical-align: middle;\n",
       "    }\n",
       "\n",
       "    .dataframe tbody tr th {\n",
       "        vertical-align: top;\n",
       "    }\n",
       "\n",
       "    .dataframe thead th {\n",
       "        text-align: right;\n",
       "    }\n",
       "</style>\n",
       "<table border=\"1\" class=\"dataframe\">\n",
       "  <thead>\n",
       "    <tr style=\"text-align: right;\">\n",
       "      <th></th>\n",
       "      <th>heterogeneity</th>\n",
       "      <th>germplasmDbId</th>\n",
       "      <th>accessionNumber</th>\n",
       "      <th>germplasmPUI</th>\n",
       "      <th>biologicalStatusOfAccessionCode</th>\n",
       "      <th>countryOfOriginCode</th>\n",
       "      <th>wild</th>\n",
       "      <th>standardisedName</th>\n",
       "      <th>group</th>\n",
       "      <th>derivedName</th>\n",
       "      <th>...</th>\n",
       "      <th>taxonIds</th>\n",
       "      <th>speciesAuthority</th>\n",
       "      <th>subtaxa</th>\n",
       "      <th>subtaxaAuthority</th>\n",
       "      <th>donors</th>\n",
       "      <th>acquisitionDate</th>\n",
       "      <th>additionalStandardisedName</th>\n",
       "      <th>additionalInstituteCode</th>\n",
       "      <th>estimatedStandardisedName</th>\n",
       "      <th>estimatedWild</th>\n",
       "    </tr>\n",
       "  </thead>\n",
       "  <tbody>\n",
       "    <tr>\n",
       "      <th>GPE000010</th>\n",
       "      <td>0.999071</td>\n",
       "      <td>1232375</td>\n",
       "      <td>GPE000010</td>\n",
       "      <td>GPE000010</td>\n",
       "      <td>300</td>\n",
       "      <td>TUR</td>\n",
       "      <td>0</td>\n",
       "      <td>Solanum melongena</td>\n",
       "      <td>Group 1 (melongena and closest relatives)</td>\n",
       "      <td>Solanum  melongena L.</td>\n",
       "      <td>...</td>\n",
       "      <td>NaN</td>\n",
       "      <td>301712E</td>\n",
       "      <td>NaN</td>\n",
       "      <td>362213N</td>\n",
       "      <td>NaN</td>\n",
       "      <td>NaN</td>\n",
       "      <td>NaN</td>\n",
       "      <td>NaN</td>\n",
       "      <td>Solanum melongena</td>\n",
       "      <td>0</td>\n",
       "    </tr>\n",
       "    <tr>\n",
       "      <th>GPE000020</th>\n",
       "      <td>0.979045</td>\n",
       "      <td>1232376</td>\n",
       "      <td>GPE000020</td>\n",
       "      <td>GPE000020</td>\n",
       "      <td>300</td>\n",
       "      <td>TUR</td>\n",
       "      <td>0</td>\n",
       "      <td>Solanum melongena</td>\n",
       "      <td>Group 1 (melongena and closest relatives)</td>\n",
       "      <td>Solanum  melongena L.</td>\n",
       "      <td>...</td>\n",
       "      <td>NaN</td>\n",
       "      <td>30381.34E</td>\n",
       "      <td>NaN</td>\n",
       "      <td>37350.07N</td>\n",
       "      <td>NaN</td>\n",
       "      <td>NaN</td>\n",
       "      <td>NaN</td>\n",
       "      <td>NaN</td>\n",
       "      <td>Solanum melongena</td>\n",
       "      <td>0</td>\n",
       "    </tr>\n",
       "    <tr>\n",
       "      <th>GPE000030</th>\n",
       "      <td>0.996838</td>\n",
       "      <td>1232377</td>\n",
       "      <td>GPE000030</td>\n",
       "      <td>GPE000030</td>\n",
       "      <td>300</td>\n",
       "      <td>TUR</td>\n",
       "      <td>0</td>\n",
       "      <td>Solanum melongena</td>\n",
       "      <td>Group 1 (melongena and closest relatives)</td>\n",
       "      <td>Solanum  melongena L.</td>\n",
       "      <td>...</td>\n",
       "      <td>NaN</td>\n",
       "      <td>302115.99E</td>\n",
       "      <td>NaN</td>\n",
       "      <td>374541.88N</td>\n",
       "      <td>NaN</td>\n",
       "      <td>NaN</td>\n",
       "      <td>NaN</td>\n",
       "      <td>NaN</td>\n",
       "      <td>Solanum melongena</td>\n",
       "      <td>0</td>\n",
       "    </tr>\n",
       "    <tr>\n",
       "      <th>GPE000040</th>\n",
       "      <td>0.996114</td>\n",
       "      <td>1232378</td>\n",
       "      <td>GPE000040</td>\n",
       "      <td>GPE000040</td>\n",
       "      <td>300</td>\n",
       "      <td>TUR</td>\n",
       "      <td>0</td>\n",
       "      <td>Solanum melongena</td>\n",
       "      <td>Group 1 (melongena and closest relatives)</td>\n",
       "      <td>Solanum  melongena L.</td>\n",
       "      <td>...</td>\n",
       "      <td>NaN</td>\n",
       "      <td>30381.34E</td>\n",
       "      <td>NaN</td>\n",
       "      <td>37350.07N</td>\n",
       "      <td>NaN</td>\n",
       "      <td>NaN</td>\n",
       "      <td>NaN</td>\n",
       "      <td>NaN</td>\n",
       "      <td>Solanum melongena</td>\n",
       "      <td>0</td>\n",
       "    </tr>\n",
       "    <tr>\n",
       "      <th>GPE000050</th>\n",
       "      <td>0.998226</td>\n",
       "      <td>1232379</td>\n",
       "      <td>GPE000050</td>\n",
       "      <td>GPE000050</td>\n",
       "      <td>300</td>\n",
       "      <td>TUR</td>\n",
       "      <td>0</td>\n",
       "      <td>Solanum melongena</td>\n",
       "      <td>Group 1 (melongena and closest relatives)</td>\n",
       "      <td>Solanum  melongena L.</td>\n",
       "      <td>...</td>\n",
       "      <td>NaN</td>\n",
       "      <td>30381.34E</td>\n",
       "      <td>NaN</td>\n",
       "      <td>37350.07N</td>\n",
       "      <td>NaN</td>\n",
       "      <td>NaN</td>\n",
       "      <td>NaN</td>\n",
       "      <td>NaN</td>\n",
       "      <td>Solanum melongena</td>\n",
       "      <td>0</td>\n",
       "    </tr>\n",
       "    <tr>\n",
       "      <th>GPE000060</th>\n",
       "      <td>0.995185</td>\n",
       "      <td>1232380</td>\n",
       "      <td>GPE000060</td>\n",
       "      <td>GPE000060</td>\n",
       "      <td>300</td>\n",
       "      <td>TUR</td>\n",
       "      <td>0</td>\n",
       "      <td>Solanum melongena</td>\n",
       "      <td>Group 1 (melongena and closest relatives)</td>\n",
       "      <td>Solanum  melongena L.</td>\n",
       "      <td>...</td>\n",
       "      <td>NaN</td>\n",
       "      <td>30381.34E</td>\n",
       "      <td>NaN</td>\n",
       "      <td>37350.07N</td>\n",
       "      <td>NaN</td>\n",
       "      <td>NaN</td>\n",
       "      <td>NaN</td>\n",
       "      <td>NaN</td>\n",
       "      <td>Solanum melongena</td>\n",
       "      <td>0</td>\n",
       "    </tr>\n",
       "    <tr>\n",
       "      <th>GPE000070</th>\n",
       "      <td>0.994256</td>\n",
       "      <td>1232381</td>\n",
       "      <td>GPE000070</td>\n",
       "      <td>GPE000070</td>\n",
       "      <td>300</td>\n",
       "      <td>TUR</td>\n",
       "      <td>0</td>\n",
       "      <td>Solanum melongena</td>\n",
       "      <td>Group 1 (melongena and closest relatives)</td>\n",
       "      <td>Solanum  melongena L.</td>\n",
       "      <td>...</td>\n",
       "      <td>NaN</td>\n",
       "      <td>30381.34E</td>\n",
       "      <td>NaN</td>\n",
       "      <td>37350.07N</td>\n",
       "      <td>NaN</td>\n",
       "      <td>NaN</td>\n",
       "      <td>NaN</td>\n",
       "      <td>NaN</td>\n",
       "      <td>Solanum melongena</td>\n",
       "      <td>0</td>\n",
       "    </tr>\n",
       "    <tr>\n",
       "      <th>GPE000080</th>\n",
       "      <td>0.997297</td>\n",
       "      <td>1232382</td>\n",
       "      <td>GPE000080</td>\n",
       "      <td>GPE000080</td>\n",
       "      <td>300</td>\n",
       "      <td>TUR</td>\n",
       "      <td>0</td>\n",
       "      <td>Solanum melongena</td>\n",
       "      <td>Group 1 (melongena and closest relatives)</td>\n",
       "      <td>Solanum  melongena L.</td>\n",
       "      <td>...</td>\n",
       "      <td>NaN</td>\n",
       "      <td>302640.11E</td>\n",
       "      <td>NaN</td>\n",
       "      <td>373436.86N</td>\n",
       "      <td>NaN</td>\n",
       "      <td>NaN</td>\n",
       "      <td>NaN</td>\n",
       "      <td>NaN</td>\n",
       "      <td>Solanum melongena</td>\n",
       "      <td>0</td>\n",
       "    </tr>\n",
       "    <tr>\n",
       "      <th>GPE000090</th>\n",
       "      <td>0.983359</td>\n",
       "      <td>1232383</td>\n",
       "      <td>GPE000090</td>\n",
       "      <td>GPE000090</td>\n",
       "      <td>300</td>\n",
       "      <td>TUR</td>\n",
       "      <td>0</td>\n",
       "      <td>Solanum melongena</td>\n",
       "      <td>Group 1 (melongena and closest relatives)</td>\n",
       "      <td>Solanum  melongena L.</td>\n",
       "      <td>...</td>\n",
       "      <td>NaN</td>\n",
       "      <td>302640.11E</td>\n",
       "      <td>NaN</td>\n",
       "      <td>373436.86N</td>\n",
       "      <td>NaN</td>\n",
       "      <td>NaN</td>\n",
       "      <td>NaN</td>\n",
       "      <td>NaN</td>\n",
       "      <td>Solanum melongena</td>\n",
       "      <td>0</td>\n",
       "    </tr>\n",
       "    <tr>\n",
       "      <th>GPE000100</th>\n",
       "      <td>0.989438</td>\n",
       "      <td>1232384</td>\n",
       "      <td>GPE000100</td>\n",
       "      <td>GPE000100</td>\n",
       "      <td>300</td>\n",
       "      <td>TUR</td>\n",
       "      <td>0</td>\n",
       "      <td>Solanum melongena</td>\n",
       "      <td>Group 1 (melongena and closest relatives)</td>\n",
       "      <td>Solanum  melongena L.</td>\n",
       "      <td>...</td>\n",
       "      <td>NaN</td>\n",
       "      <td>302640.11E</td>\n",
       "      <td>NaN</td>\n",
       "      <td>373436.86N</td>\n",
       "      <td>NaN</td>\n",
       "      <td>NaN</td>\n",
       "      <td>NaN</td>\n",
       "      <td>NaN</td>\n",
       "      <td>Solanum melongena</td>\n",
       "      <td>0</td>\n",
       "    </tr>\n",
       "  </tbody>\n",
       "</table>\n",
       "<p>10 rows × 22 columns</p>\n",
       "</div>"
      ],
      "text/plain": [
       "           heterogeneity  germplasmDbId accessionNumber germplasmPUI  \\\n",
       "GPE000010       0.999071        1232375       GPE000010    GPE000010   \n",
       "GPE000020       0.979045        1232376       GPE000020    GPE000020   \n",
       "GPE000030       0.996838        1232377       GPE000030    GPE000030   \n",
       "GPE000040       0.996114        1232378       GPE000040    GPE000040   \n",
       "GPE000050       0.998226        1232379       GPE000050    GPE000050   \n",
       "GPE000060       0.995185        1232380       GPE000060    GPE000060   \n",
       "GPE000070       0.994256        1232381       GPE000070    GPE000070   \n",
       "GPE000080       0.997297        1232382       GPE000080    GPE000080   \n",
       "GPE000090       0.983359        1232383       GPE000090    GPE000090   \n",
       "GPE000100       0.989438        1232384       GPE000100    GPE000100   \n",
       "\n",
       "           biologicalStatusOfAccessionCode countryOfOriginCode  wild  \\\n",
       "GPE000010                              300                 TUR     0   \n",
       "GPE000020                              300                 TUR     0   \n",
       "GPE000030                              300                 TUR     0   \n",
       "GPE000040                              300                 TUR     0   \n",
       "GPE000050                              300                 TUR     0   \n",
       "GPE000060                              300                 TUR     0   \n",
       "GPE000070                              300                 TUR     0   \n",
       "GPE000080                              300                 TUR     0   \n",
       "GPE000090                              300                 TUR     0   \n",
       "GPE000100                              300                 TUR     0   \n",
       "\n",
       "            standardisedName                                      group  \\\n",
       "GPE000010  Solanum melongena  Group 1 (melongena and closest relatives)   \n",
       "GPE000020  Solanum melongena  Group 1 (melongena and closest relatives)   \n",
       "GPE000030  Solanum melongena  Group 1 (melongena and closest relatives)   \n",
       "GPE000040  Solanum melongena  Group 1 (melongena and closest relatives)   \n",
       "GPE000050  Solanum melongena  Group 1 (melongena and closest relatives)   \n",
       "GPE000060  Solanum melongena  Group 1 (melongena and closest relatives)   \n",
       "GPE000070  Solanum melongena  Group 1 (melongena and closest relatives)   \n",
       "GPE000080  Solanum melongena  Group 1 (melongena and closest relatives)   \n",
       "GPE000090  Solanum melongena  Group 1 (melongena and closest relatives)   \n",
       "GPE000100  Solanum melongena  Group 1 (melongena and closest relatives)   \n",
       "\n",
       "                     derivedName      ...       taxonIds speciesAuthority  \\\n",
       "GPE000010  Solanum  melongena L.      ...            NaN          301712E   \n",
       "GPE000020  Solanum  melongena L.      ...            NaN        30381.34E   \n",
       "GPE000030  Solanum  melongena L.      ...            NaN       302115.99E   \n",
       "GPE000040  Solanum  melongena L.      ...            NaN        30381.34E   \n",
       "GPE000050  Solanum  melongena L.      ...            NaN        30381.34E   \n",
       "GPE000060  Solanum  melongena L.      ...            NaN        30381.34E   \n",
       "GPE000070  Solanum  melongena L.      ...            NaN        30381.34E   \n",
       "GPE000080  Solanum  melongena L.      ...            NaN       302640.11E   \n",
       "GPE000090  Solanum  melongena L.      ...            NaN       302640.11E   \n",
       "GPE000100  Solanum  melongena L.      ...            NaN       302640.11E   \n",
       "\n",
       "           subtaxa subtaxaAuthority  donors acquisitionDate  \\\n",
       "GPE000010      NaN          362213N     NaN             NaN   \n",
       "GPE000020      NaN        37350.07N     NaN             NaN   \n",
       "GPE000030      NaN       374541.88N     NaN             NaN   \n",
       "GPE000040      NaN        37350.07N     NaN             NaN   \n",
       "GPE000050      NaN        37350.07N     NaN             NaN   \n",
       "GPE000060      NaN        37350.07N     NaN             NaN   \n",
       "GPE000070      NaN        37350.07N     NaN             NaN   \n",
       "GPE000080      NaN       373436.86N     NaN             NaN   \n",
       "GPE000090      NaN       373436.86N     NaN             NaN   \n",
       "GPE000100      NaN       373436.86N     NaN             NaN   \n",
       "\n",
       "           additionalStandardisedName  additionalInstituteCode  \\\n",
       "GPE000010                         NaN                      NaN   \n",
       "GPE000020                         NaN                      NaN   \n",
       "GPE000030                         NaN                      NaN   \n",
       "GPE000040                         NaN                      NaN   \n",
       "GPE000050                         NaN                      NaN   \n",
       "GPE000060                         NaN                      NaN   \n",
       "GPE000070                         NaN                      NaN   \n",
       "GPE000080                         NaN                      NaN   \n",
       "GPE000090                         NaN                      NaN   \n",
       "GPE000100                         NaN                      NaN   \n",
       "\n",
       "           estimatedStandardisedName  estimatedWild  \n",
       "GPE000010          Solanum melongena              0  \n",
       "GPE000020          Solanum melongena              0  \n",
       "GPE000030          Solanum melongena              0  \n",
       "GPE000040          Solanum melongena              0  \n",
       "GPE000050          Solanum melongena              0  \n",
       "GPE000060          Solanum melongena              0  \n",
       "GPE000070          Solanum melongena              0  \n",
       "GPE000080          Solanum melongena              0  \n",
       "GPE000090          Solanum melongena              0  \n",
       "GPE000100          Solanum melongena              0  \n",
       "\n",
       "[10 rows x 22 columns]"
      ]
     },
     "metadata": {},
     "output_type": "display_data"
    }
   ],
   "source": [
    "import pandas as pd\n",
    "section4_excel_sheet = pd.read_excel(xls,sheet_name=sheet_names[0])\n",
    "display(section4_excel_sheet)"
   ]
  },
  {
   "cell_type": "markdown",
   "metadata": {},
   "source": [
    "## Add a new section\n",
    "Or we can create a completely new section"
   ]
  },
  {
   "cell_type": "code",
   "execution_count": 25,
   "metadata": {},
   "outputs": [],
   "source": [
    "#import pandas as pd\n",
    "#new_data = pd.DataFrame([[\"one\",\"two\"],[\"three\",\"four\"]])\n",
    "#new_section = experiment.add(new_data, \"New section\")"
   ]
  }
 ],
 "metadata": {
  "kernelspec": {
   "display_name": "Python 3",
   "language": "python",
   "name": "python3"
  },
  "language_info": {
   "codemirror_mode": {
    "name": "ipython",
    "version": 3
   },
   "file_extension": ".py",
   "mimetype": "text/x-python",
   "name": "python",
   "nbconvert_exporter": "python",
   "pygments_lexer": "ipython3",
   "version": "3.7.1"
  }
 },
 "nbformat": 4,
 "nbformat_minor": 2
}
